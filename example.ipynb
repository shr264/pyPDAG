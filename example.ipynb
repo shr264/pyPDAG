{
 "cells": [
  {
   "cell_type": "code",
   "execution_count": 1,
   "id": "f6caf5bc-82b6-4462-817f-d5d8937991b3",
   "metadata": {},
   "outputs": [],
   "source": [
    "import numpy as np\n",
    "import time\n",
    "\n",
    "from data_generator import generate_random_partialB, generate_random_MVN_data\n",
    "from PDAG import PDAG"
   ]
  },
  {
   "cell_type": "code",
   "execution_count": 2,
   "id": "d8c08508-8322-4792-8665-7cbcc2c22def",
   "metadata": {},
   "outputs": [],
   "source": [
    "p = 20\n",
    "n = 10*p\n",
    "omega, B, A, G = generate_random_partialB(int(p/4), \n",
    "                                          int(2*p/4), \n",
    "                                          int(3*p/4),\n",
    "                                          p = p,\n",
    "                                          a = 0.3,\n",
    "                                          b = 0.7,\n",
    "                                          diag_a = 2,\n",
    "                                          diag_b = 5,\n",
    "                                          plot=False)\n",
    "B = np.array(B)\n",
    "X = generate_random_MVN_data(n, omega)"
   ]
  },
  {
   "cell_type": "code",
   "execution_count": 3,
   "id": "943e723e-2d29-4a4e-8176-3a5b385b9c9d",
   "metadata": {},
   "outputs": [
    {
     "name": "stdout",
     "output_type": "stream",
     "text": [
      "Elapsed (with compilation) = 11.866858005523682\n"
     ]
    }
   ],
   "source": [
    "pdag4 = PDAG(4)\n",
    "start = time.time()\n",
    "Bhat = pdag4.fit(X, 0.001, int(p/4), int(2*p/4), int(3*p/4))\n",
    "#partial4.parallel_diagnostics(level=4)\n",
    "end = time.time()\n",
    "print(\"Elapsed (with compilation) = %s\" % (end - start))"
   ]
  },
  {
   "cell_type": "code",
   "execution_count": 4,
   "id": "306ec5fd-4008-4aeb-9c4f-8dbca5203a04",
   "metadata": {},
   "outputs": [
    {
     "data": {
      "image/png": "[encoded data removed]",
      "text/plain": [
       "<Figure size 432x288 with 1 Axes>"
      ]
     },
     "metadata": {},
     "output_type": "display_data"
    }
   ],
   "source": [
    "pdag4.plotGraph()"
   ]
  },
  {
   "cell_type": "code",
   "execution_count": null,
   "id": "632be585-01b5-4221-bfed-941a5df4c8a7",
   "metadata": {},
   "outputs": [],
   "source": []
  }
 ],
 "metadata": {
  "kernelspec": {
   "display_name": "pdag",
   "language": "python",
   "name": "pdag"
  },
  "language_info": {
   "codemirror_mode": {
    "name": "ipython",
    "version": 3
   },
   "file_extension": ".py",
   "mimetype": "text/x-python",
   "name": "python",
   "nbconvert_exporter": "python",
   "pygments_lexer": "ipython3",
   "version": "3.8.11"
  }
 },
 "nbformat": 4,
 "nbformat_minor": 5
}
